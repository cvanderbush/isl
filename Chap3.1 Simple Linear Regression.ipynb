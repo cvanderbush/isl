{
 "cells": [
  {
   "cell_type": "code",
   "execution_count": 3,
   "metadata": {},
   "outputs": [
    {
     "name": "stderr",
     "output_type": "stream",
     "text": [
      "/Library/Frameworks/Python.framework/Versions/3.6/lib/python3.6/site-packages/statsmodels/compat/pandas.py:56: FutureWarning: The pandas.core.datetools module is deprecated and will be removed in a future version. Please use the pandas.tseries module instead.\n",
      "  from pandas.core import datetools\n"
     ]
    }
   ],
   "source": [
    "import pandas as pd\n",
    "import numpy as np\n",
    "import statsmodels.api as sm\n",
    "import statsmodels.formula.api as smf"
   ]
  },
  {
   "cell_type": "code",
   "execution_count": 4,
   "metadata": {},
   "outputs": [
    {
     "name": "stdout",
     "output_type": "stream",
     "text": [
      "\n",
      "INSTALLED VERSIONS\n",
      "------------------\n",
      "Python: 3.6.2.final.0\n",
      "OS: Darwin 15.6.0 Darwin Kernel Version 15.6.0: Wed Nov  2 20:30:56 PDT 2016; root:xnu-3248.60.11.1.2~2/RELEASE_X86_64 x86_64\n",
      "byteorder: little\n",
      "LC_ALL: None\n",
      "LANG: en_US.UTF-8\n",
      "\n",
      "Statsmodels\n",
      "===========\n",
      "\n",
      "Installed: 0.8.0 (/Library/Frameworks/Python.framework/Versions/3.6/lib/python3.6/site-packages/statsmodels)\n",
      "\n",
      "Required Dependencies\n",
      "=====================\n",
      "\n",
      "cython: Not installed\n",
      "numpy: 1.13.1 (/Library/Frameworks/Python.framework/Versions/3.6/lib/python3.6/site-packages/numpy)\n",
      "scipy: 0.19.1 (/Library/Frameworks/Python.framework/Versions/3.6/lib/python3.6/site-packages/scipy)\n",
      "pandas: 0.20.3 (/Library/Frameworks/Python.framework/Versions/3.6/lib/python3.6/site-packages/pandas)\n",
      "    dateutil: 2.6.1 (/Library/Frameworks/Python.framework/Versions/3.6/lib/python3.6/site-packages/dateutil)\n",
      "patsy: 0.4.1 (/Library/Frameworks/Python.framework/Versions/3.6/lib/python3.6/site-packages/patsy)\n",
      "\n",
      "Optional Dependencies\n",
      "=====================\n",
      "\n",
      "matplotlib: 2.0.2 (/Library/Frameworks/Python.framework/Versions/3.6/lib/python3.6/site-packages/matplotlib)\n",
      "cvxopt: Not installed\n",
      "\n",
      "Developer Tools\n",
      "================\n",
      "\n",
      "IPython: 6.1.0 (/Library/Frameworks/Python.framework/Versions/3.6/lib/python3.6/site-packages/IPython)\n",
      "    jinja2: 2.9.6 (/Library/Frameworks/Python.framework/Versions/3.6/lib/python3.6/site-packages/jinja2)\n",
      "sphinx: Not installed\n",
      "    pygments: 2.2.0 (/Library/Frameworks/Python.framework/Versions/3.6/lib/python3.6/site-packages/pygments)\n",
      "nose: 1.3.7 (/Library/Frameworks/Python.framework/Versions/3.6/lib/python3.6/site-packages/nose)\n",
      "virtualenv: Not installed\n",
      "\n",
      "\n"
     ]
    }
   ],
   "source": [
    "sm.show_versions()"
   ]
  },
  {
   "cell_type": "code",
   "execution_count": 5,
   "metadata": {
    "collapsed": true
   },
   "outputs": [],
   "source": [
    "data=pd.read_csv('Advertising.csv')"
   ]
  },
  {
   "cell_type": "code",
   "execution_count": 6,
   "metadata": {},
   "outputs": [
    {
     "data": {
      "text/plain": [
       "Index(['Unnamed: 0', 'TV', 'radio', 'newspaper', 'sales'], dtype='object')"
      ]
     },
     "execution_count": 6,
     "metadata": {},
     "output_type": "execute_result"
    }
   ],
   "source": [
    "data.columns"
   ]
  },
  {
   "cell_type": "code",
   "execution_count": 7,
   "metadata": {
    "collapsed": true
   },
   "outputs": [],
   "source": [
    "data=data.drop('Unnamed: 0', axis=1)"
   ]
  },
  {
   "cell_type": "code",
   "execution_count": 8,
   "metadata": {},
   "outputs": [
    {
     "data": {
      "text/html": [
       "<div>\n",
       "<style>\n",
       "    .dataframe thead tr:only-child th {\n",
       "        text-align: right;\n",
       "    }\n",
       "\n",
       "    .dataframe thead th {\n",
       "        text-align: left;\n",
       "    }\n",
       "\n",
       "    .dataframe tbody tr th {\n",
       "        vertical-align: top;\n",
       "    }\n",
       "</style>\n",
       "<table border=\"1\" class=\"dataframe\">\n",
       "  <thead>\n",
       "    <tr style=\"text-align: right;\">\n",
       "      <th></th>\n",
       "      <th>TV</th>\n",
       "      <th>radio</th>\n",
       "      <th>newspaper</th>\n",
       "      <th>sales</th>\n",
       "    </tr>\n",
       "  </thead>\n",
       "  <tbody>\n",
       "    <tr>\n",
       "      <th>0</th>\n",
       "      <td>230.1</td>\n",
       "      <td>37.8</td>\n",
       "      <td>69.2</td>\n",
       "      <td>22.1</td>\n",
       "    </tr>\n",
       "    <tr>\n",
       "      <th>1</th>\n",
       "      <td>44.5</td>\n",
       "      <td>39.3</td>\n",
       "      <td>45.1</td>\n",
       "      <td>10.4</td>\n",
       "    </tr>\n",
       "    <tr>\n",
       "      <th>2</th>\n",
       "      <td>17.2</td>\n",
       "      <td>45.9</td>\n",
       "      <td>69.3</td>\n",
       "      <td>9.3</td>\n",
       "    </tr>\n",
       "    <tr>\n",
       "      <th>3</th>\n",
       "      <td>151.5</td>\n",
       "      <td>41.3</td>\n",
       "      <td>58.5</td>\n",
       "      <td>18.5</td>\n",
       "    </tr>\n",
       "    <tr>\n",
       "      <th>4</th>\n",
       "      <td>180.8</td>\n",
       "      <td>10.8</td>\n",
       "      <td>58.4</td>\n",
       "      <td>12.9</td>\n",
       "    </tr>\n",
       "    <tr>\n",
       "      <th>5</th>\n",
       "      <td>8.7</td>\n",
       "      <td>48.9</td>\n",
       "      <td>75.0</td>\n",
       "      <td>7.2</td>\n",
       "    </tr>\n",
       "    <tr>\n",
       "      <th>6</th>\n",
       "      <td>57.5</td>\n",
       "      <td>32.8</td>\n",
       "      <td>23.5</td>\n",
       "      <td>11.8</td>\n",
       "    </tr>\n",
       "    <tr>\n",
       "      <th>7</th>\n",
       "      <td>120.2</td>\n",
       "      <td>19.6</td>\n",
       "      <td>11.6</td>\n",
       "      <td>13.2</td>\n",
       "    </tr>\n",
       "    <tr>\n",
       "      <th>8</th>\n",
       "      <td>8.6</td>\n",
       "      <td>2.1</td>\n",
       "      <td>1.0</td>\n",
       "      <td>4.8</td>\n",
       "    </tr>\n",
       "    <tr>\n",
       "      <th>9</th>\n",
       "      <td>199.8</td>\n",
       "      <td>2.6</td>\n",
       "      <td>21.2</td>\n",
       "      <td>10.6</td>\n",
       "    </tr>\n",
       "    <tr>\n",
       "      <th>10</th>\n",
       "      <td>66.1</td>\n",
       "      <td>5.8</td>\n",
       "      <td>24.2</td>\n",
       "      <td>8.6</td>\n",
       "    </tr>\n",
       "    <tr>\n",
       "      <th>11</th>\n",
       "      <td>214.7</td>\n",
       "      <td>24.0</td>\n",
       "      <td>4.0</td>\n",
       "      <td>17.4</td>\n",
       "    </tr>\n",
       "    <tr>\n",
       "      <th>12</th>\n",
       "      <td>23.8</td>\n",
       "      <td>35.1</td>\n",
       "      <td>65.9</td>\n",
       "      <td>9.2</td>\n",
       "    </tr>\n",
       "    <tr>\n",
       "      <th>13</th>\n",
       "      <td>97.5</td>\n",
       "      <td>7.6</td>\n",
       "      <td>7.2</td>\n",
       "      <td>9.7</td>\n",
       "    </tr>\n",
       "    <tr>\n",
       "      <th>14</th>\n",
       "      <td>204.1</td>\n",
       "      <td>32.9</td>\n",
       "      <td>46.0</td>\n",
       "      <td>19.0</td>\n",
       "    </tr>\n",
       "    <tr>\n",
       "      <th>15</th>\n",
       "      <td>195.4</td>\n",
       "      <td>47.7</td>\n",
       "      <td>52.9</td>\n",
       "      <td>22.4</td>\n",
       "    </tr>\n",
       "    <tr>\n",
       "      <th>16</th>\n",
       "      <td>67.8</td>\n",
       "      <td>36.6</td>\n",
       "      <td>114.0</td>\n",
       "      <td>12.5</td>\n",
       "    </tr>\n",
       "    <tr>\n",
       "      <th>17</th>\n",
       "      <td>281.4</td>\n",
       "      <td>39.6</td>\n",
       "      <td>55.8</td>\n",
       "      <td>24.4</td>\n",
       "    </tr>\n",
       "    <tr>\n",
       "      <th>18</th>\n",
       "      <td>69.2</td>\n",
       "      <td>20.5</td>\n",
       "      <td>18.3</td>\n",
       "      <td>11.3</td>\n",
       "    </tr>\n",
       "    <tr>\n",
       "      <th>19</th>\n",
       "      <td>147.3</td>\n",
       "      <td>23.9</td>\n",
       "      <td>19.1</td>\n",
       "      <td>14.6</td>\n",
       "    </tr>\n",
       "    <tr>\n",
       "      <th>20</th>\n",
       "      <td>218.4</td>\n",
       "      <td>27.7</td>\n",
       "      <td>53.4</td>\n",
       "      <td>18.0</td>\n",
       "    </tr>\n",
       "    <tr>\n",
       "      <th>21</th>\n",
       "      <td>237.4</td>\n",
       "      <td>5.1</td>\n",
       "      <td>23.5</td>\n",
       "      <td>12.5</td>\n",
       "    </tr>\n",
       "    <tr>\n",
       "      <th>22</th>\n",
       "      <td>13.2</td>\n",
       "      <td>15.9</td>\n",
       "      <td>49.6</td>\n",
       "      <td>5.6</td>\n",
       "    </tr>\n",
       "    <tr>\n",
       "      <th>23</th>\n",
       "      <td>228.3</td>\n",
       "      <td>16.9</td>\n",
       "      <td>26.2</td>\n",
       "      <td>15.5</td>\n",
       "    </tr>\n",
       "    <tr>\n",
       "      <th>24</th>\n",
       "      <td>62.3</td>\n",
       "      <td>12.6</td>\n",
       "      <td>18.3</td>\n",
       "      <td>9.7</td>\n",
       "    </tr>\n",
       "    <tr>\n",
       "      <th>25</th>\n",
       "      <td>262.9</td>\n",
       "      <td>3.5</td>\n",
       "      <td>19.5</td>\n",
       "      <td>12.0</td>\n",
       "    </tr>\n",
       "    <tr>\n",
       "      <th>26</th>\n",
       "      <td>142.9</td>\n",
       "      <td>29.3</td>\n",
       "      <td>12.6</td>\n",
       "      <td>15.0</td>\n",
       "    </tr>\n",
       "    <tr>\n",
       "      <th>27</th>\n",
       "      <td>240.1</td>\n",
       "      <td>16.7</td>\n",
       "      <td>22.9</td>\n",
       "      <td>15.9</td>\n",
       "    </tr>\n",
       "    <tr>\n",
       "      <th>28</th>\n",
       "      <td>248.8</td>\n",
       "      <td>27.1</td>\n",
       "      <td>22.9</td>\n",
       "      <td>18.9</td>\n",
       "    </tr>\n",
       "    <tr>\n",
       "      <th>29</th>\n",
       "      <td>70.6</td>\n",
       "      <td>16.0</td>\n",
       "      <td>40.8</td>\n",
       "      <td>10.5</td>\n",
       "    </tr>\n",
       "    <tr>\n",
       "      <th>...</th>\n",
       "      <td>...</td>\n",
       "      <td>...</td>\n",
       "      <td>...</td>\n",
       "      <td>...</td>\n",
       "    </tr>\n",
       "    <tr>\n",
       "      <th>170</th>\n",
       "      <td>50.0</td>\n",
       "      <td>11.6</td>\n",
       "      <td>18.4</td>\n",
       "      <td>8.4</td>\n",
       "    </tr>\n",
       "    <tr>\n",
       "      <th>171</th>\n",
       "      <td>164.5</td>\n",
       "      <td>20.9</td>\n",
       "      <td>47.4</td>\n",
       "      <td>14.5</td>\n",
       "    </tr>\n",
       "    <tr>\n",
       "      <th>172</th>\n",
       "      <td>19.6</td>\n",
       "      <td>20.1</td>\n",
       "      <td>17.0</td>\n",
       "      <td>7.6</td>\n",
       "    </tr>\n",
       "    <tr>\n",
       "      <th>173</th>\n",
       "      <td>168.4</td>\n",
       "      <td>7.1</td>\n",
       "      <td>12.8</td>\n",
       "      <td>11.7</td>\n",
       "    </tr>\n",
       "    <tr>\n",
       "      <th>174</th>\n",
       "      <td>222.4</td>\n",
       "      <td>3.4</td>\n",
       "      <td>13.1</td>\n",
       "      <td>11.5</td>\n",
       "    </tr>\n",
       "    <tr>\n",
       "      <th>175</th>\n",
       "      <td>276.9</td>\n",
       "      <td>48.9</td>\n",
       "      <td>41.8</td>\n",
       "      <td>27.0</td>\n",
       "    </tr>\n",
       "    <tr>\n",
       "      <th>176</th>\n",
       "      <td>248.4</td>\n",
       "      <td>30.2</td>\n",
       "      <td>20.3</td>\n",
       "      <td>20.2</td>\n",
       "    </tr>\n",
       "    <tr>\n",
       "      <th>177</th>\n",
       "      <td>170.2</td>\n",
       "      <td>7.8</td>\n",
       "      <td>35.2</td>\n",
       "      <td>11.7</td>\n",
       "    </tr>\n",
       "    <tr>\n",
       "      <th>178</th>\n",
       "      <td>276.7</td>\n",
       "      <td>2.3</td>\n",
       "      <td>23.7</td>\n",
       "      <td>11.8</td>\n",
       "    </tr>\n",
       "    <tr>\n",
       "      <th>179</th>\n",
       "      <td>165.6</td>\n",
       "      <td>10.0</td>\n",
       "      <td>17.6</td>\n",
       "      <td>12.6</td>\n",
       "    </tr>\n",
       "    <tr>\n",
       "      <th>180</th>\n",
       "      <td>156.6</td>\n",
       "      <td>2.6</td>\n",
       "      <td>8.3</td>\n",
       "      <td>10.5</td>\n",
       "    </tr>\n",
       "    <tr>\n",
       "      <th>181</th>\n",
       "      <td>218.5</td>\n",
       "      <td>5.4</td>\n",
       "      <td>27.4</td>\n",
       "      <td>12.2</td>\n",
       "    </tr>\n",
       "    <tr>\n",
       "      <th>182</th>\n",
       "      <td>56.2</td>\n",
       "      <td>5.7</td>\n",
       "      <td>29.7</td>\n",
       "      <td>8.7</td>\n",
       "    </tr>\n",
       "    <tr>\n",
       "      <th>183</th>\n",
       "      <td>287.6</td>\n",
       "      <td>43.0</td>\n",
       "      <td>71.8</td>\n",
       "      <td>26.2</td>\n",
       "    </tr>\n",
       "    <tr>\n",
       "      <th>184</th>\n",
       "      <td>253.8</td>\n",
       "      <td>21.3</td>\n",
       "      <td>30.0</td>\n",
       "      <td>17.6</td>\n",
       "    </tr>\n",
       "    <tr>\n",
       "      <th>185</th>\n",
       "      <td>205.0</td>\n",
       "      <td>45.1</td>\n",
       "      <td>19.6</td>\n",
       "      <td>22.6</td>\n",
       "    </tr>\n",
       "    <tr>\n",
       "      <th>186</th>\n",
       "      <td>139.5</td>\n",
       "      <td>2.1</td>\n",
       "      <td>26.6</td>\n",
       "      <td>10.3</td>\n",
       "    </tr>\n",
       "    <tr>\n",
       "      <th>187</th>\n",
       "      <td>191.1</td>\n",
       "      <td>28.7</td>\n",
       "      <td>18.2</td>\n",
       "      <td>17.3</td>\n",
       "    </tr>\n",
       "    <tr>\n",
       "      <th>188</th>\n",
       "      <td>286.0</td>\n",
       "      <td>13.9</td>\n",
       "      <td>3.7</td>\n",
       "      <td>15.9</td>\n",
       "    </tr>\n",
       "    <tr>\n",
       "      <th>189</th>\n",
       "      <td>18.7</td>\n",
       "      <td>12.1</td>\n",
       "      <td>23.4</td>\n",
       "      <td>6.7</td>\n",
       "    </tr>\n",
       "    <tr>\n",
       "      <th>190</th>\n",
       "      <td>39.5</td>\n",
       "      <td>41.1</td>\n",
       "      <td>5.8</td>\n",
       "      <td>10.8</td>\n",
       "    </tr>\n",
       "    <tr>\n",
       "      <th>191</th>\n",
       "      <td>75.5</td>\n",
       "      <td>10.8</td>\n",
       "      <td>6.0</td>\n",
       "      <td>9.9</td>\n",
       "    </tr>\n",
       "    <tr>\n",
       "      <th>192</th>\n",
       "      <td>17.2</td>\n",
       "      <td>4.1</td>\n",
       "      <td>31.6</td>\n",
       "      <td>5.9</td>\n",
       "    </tr>\n",
       "    <tr>\n",
       "      <th>193</th>\n",
       "      <td>166.8</td>\n",
       "      <td>42.0</td>\n",
       "      <td>3.6</td>\n",
       "      <td>19.6</td>\n",
       "    </tr>\n",
       "    <tr>\n",
       "      <th>194</th>\n",
       "      <td>149.7</td>\n",
       "      <td>35.6</td>\n",
       "      <td>6.0</td>\n",
       "      <td>17.3</td>\n",
       "    </tr>\n",
       "    <tr>\n",
       "      <th>195</th>\n",
       "      <td>38.2</td>\n",
       "      <td>3.7</td>\n",
       "      <td>13.8</td>\n",
       "      <td>7.6</td>\n",
       "    </tr>\n",
       "    <tr>\n",
       "      <th>196</th>\n",
       "      <td>94.2</td>\n",
       "      <td>4.9</td>\n",
       "      <td>8.1</td>\n",
       "      <td>9.7</td>\n",
       "    </tr>\n",
       "    <tr>\n",
       "      <th>197</th>\n",
       "      <td>177.0</td>\n",
       "      <td>9.3</td>\n",
       "      <td>6.4</td>\n",
       "      <td>12.8</td>\n",
       "    </tr>\n",
       "    <tr>\n",
       "      <th>198</th>\n",
       "      <td>283.6</td>\n",
       "      <td>42.0</td>\n",
       "      <td>66.2</td>\n",
       "      <td>25.5</td>\n",
       "    </tr>\n",
       "    <tr>\n",
       "      <th>199</th>\n",
       "      <td>232.1</td>\n",
       "      <td>8.6</td>\n",
       "      <td>8.7</td>\n",
       "      <td>13.4</td>\n",
       "    </tr>\n",
       "  </tbody>\n",
       "</table>\n",
       "<p>200 rows × 4 columns</p>\n",
       "</div>"
      ],
      "text/plain": [
       "        TV  radio  newspaper  sales\n",
       "0    230.1   37.8       69.2   22.1\n",
       "1     44.5   39.3       45.1   10.4\n",
       "2     17.2   45.9       69.3    9.3\n",
       "3    151.5   41.3       58.5   18.5\n",
       "4    180.8   10.8       58.4   12.9\n",
       "5      8.7   48.9       75.0    7.2\n",
       "6     57.5   32.8       23.5   11.8\n",
       "7    120.2   19.6       11.6   13.2\n",
       "8      8.6    2.1        1.0    4.8\n",
       "9    199.8    2.6       21.2   10.6\n",
       "10    66.1    5.8       24.2    8.6\n",
       "11   214.7   24.0        4.0   17.4\n",
       "12    23.8   35.1       65.9    9.2\n",
       "13    97.5    7.6        7.2    9.7\n",
       "14   204.1   32.9       46.0   19.0\n",
       "15   195.4   47.7       52.9   22.4\n",
       "16    67.8   36.6      114.0   12.5\n",
       "17   281.4   39.6       55.8   24.4\n",
       "18    69.2   20.5       18.3   11.3\n",
       "19   147.3   23.9       19.1   14.6\n",
       "20   218.4   27.7       53.4   18.0\n",
       "21   237.4    5.1       23.5   12.5\n",
       "22    13.2   15.9       49.6    5.6\n",
       "23   228.3   16.9       26.2   15.5\n",
       "24    62.3   12.6       18.3    9.7\n",
       "25   262.9    3.5       19.5   12.0\n",
       "26   142.9   29.3       12.6   15.0\n",
       "27   240.1   16.7       22.9   15.9\n",
       "28   248.8   27.1       22.9   18.9\n",
       "29    70.6   16.0       40.8   10.5\n",
       "..     ...    ...        ...    ...\n",
       "170   50.0   11.6       18.4    8.4\n",
       "171  164.5   20.9       47.4   14.5\n",
       "172   19.6   20.1       17.0    7.6\n",
       "173  168.4    7.1       12.8   11.7\n",
       "174  222.4    3.4       13.1   11.5\n",
       "175  276.9   48.9       41.8   27.0\n",
       "176  248.4   30.2       20.3   20.2\n",
       "177  170.2    7.8       35.2   11.7\n",
       "178  276.7    2.3       23.7   11.8\n",
       "179  165.6   10.0       17.6   12.6\n",
       "180  156.6    2.6        8.3   10.5\n",
       "181  218.5    5.4       27.4   12.2\n",
       "182   56.2    5.7       29.7    8.7\n",
       "183  287.6   43.0       71.8   26.2\n",
       "184  253.8   21.3       30.0   17.6\n",
       "185  205.0   45.1       19.6   22.6\n",
       "186  139.5    2.1       26.6   10.3\n",
       "187  191.1   28.7       18.2   17.3\n",
       "188  286.0   13.9        3.7   15.9\n",
       "189   18.7   12.1       23.4    6.7\n",
       "190   39.5   41.1        5.8   10.8\n",
       "191   75.5   10.8        6.0    9.9\n",
       "192   17.2    4.1       31.6    5.9\n",
       "193  166.8   42.0        3.6   19.6\n",
       "194  149.7   35.6        6.0   17.3\n",
       "195   38.2    3.7       13.8    7.6\n",
       "196   94.2    4.9        8.1    9.7\n",
       "197  177.0    9.3        6.4   12.8\n",
       "198  283.6   42.0       66.2   25.5\n",
       "199  232.1    8.6        8.7   13.4\n",
       "\n",
       "[200 rows x 4 columns]"
      ]
     },
     "execution_count": 8,
     "metadata": {},
     "output_type": "execute_result"
    }
   ],
   "source": [
    "data"
   ]
  },
  {
   "cell_type": "code",
   "execution_count": 9,
   "metadata": {
    "collapsed": true
   },
   "outputs": [],
   "source": [
    "results = smf.ols('sales ~ TV', data=data).fit()"
   ]
  },
  {
   "cell_type": "code",
   "execution_count": 10,
   "metadata": {},
   "outputs": [
    {
     "data": {
      "text/html": [
       "<table class=\"simpletable\">\n",
       "<caption>OLS Regression Results</caption>\n",
       "<tr>\n",
       "  <th>Dep. Variable:</th>          <td>sales</td>      <th>  R-squared:         </th> <td>   0.612</td>\n",
       "</tr>\n",
       "<tr>\n",
       "  <th>Model:</th>                   <td>OLS</td>       <th>  Adj. R-squared:    </th> <td>   0.610</td>\n",
       "</tr>\n",
       "<tr>\n",
       "  <th>Method:</th>             <td>Least Squares</td>  <th>  F-statistic:       </th> <td>   312.1</td>\n",
       "</tr>\n",
       "<tr>\n",
       "  <th>Date:</th>             <td>Thu, 14 Sep 2017</td> <th>  Prob (F-statistic):</th> <td>1.47e-42</td>\n",
       "</tr>\n",
       "<tr>\n",
       "  <th>Time:</th>                 <td>21:27:31</td>     <th>  Log-Likelihood:    </th> <td> -519.05</td>\n",
       "</tr>\n",
       "<tr>\n",
       "  <th>No. Observations:</th>      <td>   200</td>      <th>  AIC:               </th> <td>   1042.</td>\n",
       "</tr>\n",
       "<tr>\n",
       "  <th>Df Residuals:</th>          <td>   198</td>      <th>  BIC:               </th> <td>   1049.</td>\n",
       "</tr>\n",
       "<tr>\n",
       "  <th>Df Model:</th>              <td>     1</td>      <th>                     </th>     <td> </td>   \n",
       "</tr>\n",
       "<tr>\n",
       "  <th>Covariance Type:</th>      <td>nonrobust</td>    <th>                     </th>     <td> </td>   \n",
       "</tr>\n",
       "</table>\n",
       "<table class=\"simpletable\">\n",
       "<tr>\n",
       "      <td></td>         <th>coef</th>     <th>std err</th>      <th>t</th>      <th>P>|t|</th>  <th>[0.025</th>    <th>0.975]</th>  \n",
       "</tr>\n",
       "<tr>\n",
       "  <th>Intercept</th> <td>    7.0326</td> <td>    0.458</td> <td>   15.360</td> <td> 0.000</td> <td>    6.130</td> <td>    7.935</td>\n",
       "</tr>\n",
       "<tr>\n",
       "  <th>TV</th>        <td>    0.0475</td> <td>    0.003</td> <td>   17.668</td> <td> 0.000</td> <td>    0.042</td> <td>    0.053</td>\n",
       "</tr>\n",
       "</table>\n",
       "<table class=\"simpletable\">\n",
       "<tr>\n",
       "  <th>Omnibus:</th>       <td> 0.531</td> <th>  Durbin-Watson:     </th> <td>   1.935</td>\n",
       "</tr>\n",
       "<tr>\n",
       "  <th>Prob(Omnibus):</th> <td> 0.767</td> <th>  Jarque-Bera (JB):  </th> <td>   0.669</td>\n",
       "</tr>\n",
       "<tr>\n",
       "  <th>Skew:</th>          <td>-0.089</td> <th>  Prob(JB):          </th> <td>   0.716</td>\n",
       "</tr>\n",
       "<tr>\n",
       "  <th>Kurtosis:</th>      <td> 2.779</td> <th>  Cond. No.          </th> <td>    338.</td>\n",
       "</tr>\n",
       "</table>"
      ],
      "text/plain": [
       "<class 'statsmodels.iolib.summary.Summary'>\n",
       "\"\"\"\n",
       "                            OLS Regression Results                            \n",
       "==============================================================================\n",
       "Dep. Variable:                  sales   R-squared:                       0.612\n",
       "Model:                            OLS   Adj. R-squared:                  0.610\n",
       "Method:                 Least Squares   F-statistic:                     312.1\n",
       "Date:                Thu, 14 Sep 2017   Prob (F-statistic):           1.47e-42\n",
       "Time:                        21:27:31   Log-Likelihood:                -519.05\n",
       "No. Observations:                 200   AIC:                             1042.\n",
       "Df Residuals:                     198   BIC:                             1049.\n",
       "Df Model:                           1                                         \n",
       "Covariance Type:            nonrobust                                         \n",
       "==============================================================================\n",
       "                 coef    std err          t      P>|t|      [0.025      0.975]\n",
       "------------------------------------------------------------------------------\n",
       "Intercept      7.0326      0.458     15.360      0.000       6.130       7.935\n",
       "TV             0.0475      0.003     17.668      0.000       0.042       0.053\n",
       "==============================================================================\n",
       "Omnibus:                        0.531   Durbin-Watson:                   1.935\n",
       "Prob(Omnibus):                  0.767   Jarque-Bera (JB):                0.669\n",
       "Skew:                          -0.089   Prob(JB):                        0.716\n",
       "Kurtosis:                       2.779   Cond. No.                         338.\n",
       "==============================================================================\n",
       "\n",
       "Warnings:\n",
       "[1] Standard Errors assume that the covariance matrix of the errors is correctly specified.\n",
       "\"\"\""
      ]
     },
     "execution_count": 10,
     "metadata": {},
     "output_type": "execute_result"
    }
   ],
   "source": [
    "results.summary()"
   ]
  },
  {
   "cell_type": "code",
   "execution_count": 11,
   "metadata": {},
   "outputs": [
    {
     "data": {
      "text/plain": [
       "Intercept    7.032594\n",
       "TV           0.047537\n",
       "dtype: float64"
      ]
     },
     "execution_count": 11,
     "metadata": {},
     "output_type": "execute_result"
    }
   ],
   "source": [
    "results.params"
   ]
  },
  {
   "cell_type": "code",
   "execution_count": 12,
   "metadata": {},
   "outputs": [
    {
     "data": {
      "text/plain": [
       "0      4.129225\n",
       "1      1.252026\n",
       "2      1.449776\n",
       "3      4.265605\n",
       "4     -2.727218\n",
       "5     -0.246162\n",
       "6      2.034050\n",
       "7      0.453502\n",
       "8     -2.641409\n",
       "9     -5.930414\n",
       "10    -1.574765\n",
       "11     0.161290\n",
       "12     1.036034\n",
       "13    -1.967416\n",
       "14     2.265178\n",
       "15     6.078747\n",
       "16     2.244422\n",
       "17     3.990596\n",
       "18     0.977871\n",
       "19     0.565259\n",
       "20     0.585404\n",
       "21    -5.817792\n",
       "22    -2.060077\n",
       "23    -2.385209\n",
       "24    -0.294126\n",
       "25    -7.529976\n",
       "26     1.174421\n",
       "27    -2.546141\n",
       "28     0.040290\n",
       "29     0.111320\n",
       "         ...   \n",
       "170   -1.009426\n",
       "171   -0.352371\n",
       "172   -0.364312\n",
       "173   -3.337764\n",
       "174   -6.104742\n",
       "175    6.804511\n",
       "176    1.359305\n",
       "177   -3.423330\n",
       "178   -8.385982\n",
       "179   -2.304661\n",
       "180   -3.976831\n",
       "181   -5.219349\n",
       "182   -1.004153\n",
       "183    5.495869\n",
       "184   -1.497393\n",
       "185    5.822395\n",
       "186   -3.363955\n",
       "187    1.183154\n",
       "188   -4.728073\n",
       "189   -1.221529\n",
       "190    1.889709\n",
       "191   -0.721610\n",
       "192   -1.950224\n",
       "193    4.638295\n",
       "194    3.151171\n",
       "195   -1.248493\n",
       "196   -1.810545\n",
       "197   -2.646579\n",
       "198    4.986015\n",
       "199   -4.665848\n",
       "Length: 200, dtype: float64"
      ]
     },
     "execution_count": 12,
     "metadata": {},
     "output_type": "execute_result"
    }
   ],
   "source": [
    "results.resid"
   ]
  },
  {
   "cell_type": "markdown",
   "metadata": {},
   "source": [
    "RSS calculation"
   ]
  },
  {
   "cell_type": "code",
   "execution_count": 14,
   "metadata": {},
   "outputs": [
    {
     "data": {
      "text/plain": [
       "-4.9382720135326963e-13"
      ]
     },
     "execution_count": 14,
     "metadata": {},
     "output_type": "execute_result"
    }
   ],
   "source": [
    "sum(results.resid)"
   ]
  },
  {
   "cell_type": "markdown",
   "metadata": {},
   "source": [
    "Wow!  Nearly 0.  This is why we must square the resids."
   ]
  },
  {
   "cell_type": "code",
   "execution_count": 38,
   "metadata": {},
   "outputs": [
    {
     "data": {
      "text/plain": [
       "2102.5305831313503"
      ]
     },
     "execution_count": 38,
     "metadata": {},
     "output_type": "execute_result"
    }
   ],
   "source": [
    "sum(results.resid**2)"
   ]
  },
  {
   "cell_type": "markdown",
   "metadata": {},
   "source": [
    "Can also use `.ssr` -- Sum of Squared Residuals"
   ]
  },
  {
   "cell_type": "code",
   "execution_count": 63,
   "metadata": {},
   "outputs": [
    {
     "data": {
      "text/plain": [
       "2102.5305831313512"
      ]
     },
     "execution_count": 63,
     "metadata": {},
     "output_type": "execute_result"
    }
   ],
   "source": [
    "results.ssr"
   ]
  },
  {
   "cell_type": "markdown",
   "metadata": {},
   "source": [
    "Let's just make sure this minimizes the residuals.  What would the RSS be if the slope were 1% flatter or 1% steeper?"
   ]
  },
  {
   "cell_type": "code",
   "execution_count": 22,
   "metadata": {},
   "outputs": [
    {
     "data": {
      "text/plain": [
       "0.047536640433019764"
      ]
     },
     "execution_count": 22,
     "metadata": {},
     "output_type": "execute_result"
    }
   ],
   "source": [
    "slope = results.params[1]\n",
    "slope"
   ]
  },
  {
   "cell_type": "code",
   "execution_count": 21,
   "metadata": {},
   "outputs": [
    {
     "data": {
      "text/plain": [
       "0.047061274028689565"
      ]
     },
     "execution_count": 21,
     "metadata": {},
     "output_type": "execute_result"
    }
   ],
   "source": [
    "flatter_slope = slope * 0.99\n",
    "flatter_slope"
   ]
  },
  {
   "cell_type": "markdown",
   "metadata": {},
   "source": [
    "So here are the predicted $\\hat y$s for our flatter slope."
   ]
  },
  {
   "cell_type": "code",
   "execution_count": 23,
   "metadata": {
    "collapsed": true
   },
   "outputs": [],
   "source": [
    "results2 = data['TV'] * flatter_slope + 7.032594"
   ]
  },
  {
   "cell_type": "markdown",
   "metadata": {},
   "source": [
    "...and the residuals associate with these $\\hat y$s:"
   ]
  },
  {
   "cell_type": "code",
   "execution_count": 24,
   "metadata": {
    "collapsed": true
   },
   "outputs": [],
   "source": [
    "resid2 = results2 - data['sales']"
   ]
  },
  {
   "cell_type": "code",
   "execution_count": 25,
   "metadata": {},
   "outputs": [
    {
     "data": {
      "text/plain": [
       "2103.8392081856973"
      ]
     },
     "execution_count": 25,
     "metadata": {},
     "output_type": "execute_result"
    }
   ],
   "source": [
    "sum(resid2**2)"
   ]
  },
  {
   "cell_type": "markdown",
   "metadata": {},
   "source": [
    "Slightly more.  Now try 1% steeper."
   ]
  },
  {
   "cell_type": "code",
   "execution_count": 26,
   "metadata": {},
   "outputs": [
    {
     "data": {
      "text/plain": [
       "0.048012006837349963"
      ]
     },
     "execution_count": 26,
     "metadata": {},
     "output_type": "execute_result"
    }
   ],
   "source": [
    "steeper_slope = slope * 1.01\n",
    "steeper_slope"
   ]
  },
  {
   "cell_type": "code",
   "execution_count": 27,
   "metadata": {
    "collapsed": true
   },
   "outputs": [],
   "source": [
    "results3 = data['TV'] * steeper_slope + 7.032594"
   ]
  },
  {
   "cell_type": "code",
   "execution_count": 28,
   "metadata": {
    "collapsed": true
   },
   "outputs": [],
   "source": [
    "resid3 = results3 - data['sales']"
   ]
  },
  {
   "cell_type": "code",
   "execution_count": 29,
   "metadata": {},
   "outputs": [
    {
     "data": {
      "text/plain": [
       "2103.8392333981378"
      ]
     },
     "execution_count": 29,
     "metadata": {},
     "output_type": "execute_result"
    }
   ],
   "source": [
    "sum(resid3**2)"
   ]
  },
  {
   "cell_type": "markdown",
   "metadata": {},
   "source": [
    "Also slightly more.  This indicates that the slope we found does at least create a local minimum."
   ]
  },
  {
   "cell_type": "markdown",
   "metadata": {},
   "source": [
    "What about the standard errors of the parameters $\\hat\\beta_0$ and $\\hat\\beta_1$? (i.e. intercept and TV).  \n",
    "The Standard Error of $\\hat\\beta_0$ is calculated as follows:  \n",
    "  \n",
    "${SE({\\hat\\beta_0})}^2 = \\sigma^2\\Bigg(\\dfrac{1}{n} + \\dfrac{\\bar x ^2}{\\displaystyle \\sum_{i=1}^{n} (x_i - \\bar x)^2}\\Bigg)$\n",
    "\n",
    "where $\\sigma^2 = RSE^2 = \\dfrac{RSS}{n-2} = \\Bigg(\\dfrac{\\displaystyle \\sum_{i=1}^{n} (y_i - \\hat y)^2}{n - 2}\\Bigg)$\n"
   ]
  },
  {
   "cell_type": "markdown",
   "metadata": {},
   "source": [
    "First, we'll assemble some parts:"
   ]
  },
  {
   "cell_type": "code",
   "execution_count": 36,
   "metadata": {
    "collapsed": true
   },
   "outputs": [],
   "source": [
    "xmean = data['TV'].mean()"
   ]
  },
  {
   "cell_type": "code",
   "execution_count": 37,
   "metadata": {
    "collapsed": true
   },
   "outputs": [],
   "source": [
    "xdiff = data['TV'] - xmean"
   ]
  },
  {
   "cell_type": "code",
   "execution_count": 38,
   "metadata": {
    "collapsed": true
   },
   "outputs": [],
   "source": [
    "n = results.nobs"
   ]
  },
  {
   "cell_type": "code",
   "execution_count": 39,
   "metadata": {
    "collapsed": true
   },
   "outputs": [],
   "source": [
    "RSE2 = sum(results.resid**2)/(n-2)"
   ]
  },
  {
   "cell_type": "code",
   "execution_count": 40,
   "metadata": {
    "collapsed": true
   },
   "outputs": [],
   "source": [
    "SEbeta0sq = RSE2*(1/n + xmean**2/sum(xdiff**2))"
   ]
  },
  {
   "cell_type": "code",
   "execution_count": 41,
   "metadata": {
    "collapsed": true
   },
   "outputs": [],
   "source": [
    "SEbeta0 = SEbeta0sq**0.5"
   ]
  },
  {
   "cell_type": "code",
   "execution_count": 42,
   "metadata": {},
   "outputs": [
    {
     "data": {
      "text/plain": [
       "0.45784294027347827"
      ]
     },
     "execution_count": 42,
     "metadata": {},
     "output_type": "execute_result"
    }
   ],
   "source": [
    "SEbeta0"
   ]
  },
  {
   "cell_type": "markdown",
   "metadata": {},
   "source": [
    "Can also use statsmodels function `bse` on results object.  Beta standard errors?"
   ]
  },
  {
   "cell_type": "code",
   "execution_count": 60,
   "metadata": {},
   "outputs": [
    {
     "data": {
      "text/plain": [
       "Intercept    0.457843\n",
       "TV           0.002691\n",
       "dtype: float64"
      ]
     },
     "execution_count": 60,
     "metadata": {},
     "output_type": "execute_result"
    }
   ],
   "source": [
    "results.bse"
   ]
  },
  {
   "cell_type": "markdown",
   "metadata": {},
   "source": [
    "Isolating the tvalues  \n",
    "The tvalues represent # of standard errors away from 0, i.e. disproving $H_0$: $\\hat\\beta_0$ or $\\hat\\beta_1$ = 0."
   ]
  },
  {
   "cell_type": "code",
   "execution_count": 65,
   "metadata": {},
   "outputs": [
    {
     "data": {
      "text/plain": [
       "Intercept    15.360275\n",
       "TV           17.667626\n",
       "dtype: float64"
      ]
     },
     "execution_count": 65,
     "metadata": {},
     "output_type": "execute_result"
    }
   ],
   "source": [
    "results.tvalues"
   ]
  },
  {
   "cell_type": "markdown",
   "metadata": {},
   "source": [
    "...and the p values"
   ]
  },
  {
   "cell_type": "code",
   "execution_count": 66,
   "metadata": {},
   "outputs": [
    {
     "data": {
      "text/plain": [
       "Intercept    1.406300e-35\n",
       "TV           1.467390e-42\n",
       "dtype: float64"
      ]
     },
     "execution_count": 66,
     "metadata": {},
     "output_type": "execute_result"
    }
   ],
   "source": [
    "results.pvalues"
   ]
  },
  {
   "cell_type": "markdown",
   "metadata": {},
   "source": [
    "Above tests done to reject $H_0$, the null hypothesis.  \n",
    "Let's look at assessing the accuracy of the model using the RSE and the $R^2$ statistic.  "
   ]
  },
  {
   "cell_type": "markdown",
   "metadata": {},
   "source": [
    "The Residual Standard Error  \n",
    "\n",
    "RSE = $\\sqrt{\\dfrac{\\displaystyle\\sum_{i=1}^{n} (y_i - \\hat y)^2}{n-2}}$"
   ]
  },
  {
   "cell_type": "code",
   "execution_count": 73,
   "metadata": {
    "collapsed": true
   },
   "outputs": [],
   "source": [
    "RSE = (sum(results.resid**2)/(results.nobs-2))**0.5"
   ]
  },
  {
   "cell_type": "code",
   "execution_count": 74,
   "metadata": {},
   "outputs": [
    {
     "data": {
      "text/plain": [
       "3.2586563686504619"
      ]
     },
     "execution_count": 74,
     "metadata": {},
     "output_type": "execute_result"
    }
   ],
   "source": [
    "RSE"
   ]
  },
  {
   "cell_type": "markdown",
   "metadata": {},
   "source": [
    "This is how much observed Sales differs, on average, from the predicted Sales for a given value of x.  \n",
    "A small RSE indicates the model fits the data very well.  But how small is small?"
   ]
  },
  {
   "cell_type": "code",
   "execution_count": 78,
   "metadata": {},
   "outputs": [
    {
     "data": {
      "text/plain": [
       "14.022500000000001"
      ]
     },
     "execution_count": 78,
     "metadata": {},
     "output_type": "execute_result"
    }
   ],
   "source": [
    "data['sales'].mean()"
   ]
  },
  {
   "cell_type": "markdown",
   "metadata": {},
   "source": [
    "The Residual Standard Error of 3.25 is a pretty big percentage of the average Sales.  \n",
    "It's not always clear what constitutes a good RSE.  \n",
    "The $R^2$ statistic provides an alternative measure of fit."
   ]
  },
  {
   "cell_type": "markdown",
   "metadata": {},
   "source": [
    "$R^2$ is the proportion of variance explained - proportions take on a value from 0 to 1."
   ]
  },
  {
   "cell_type": "markdown",
   "metadata": {},
   "source": [
    "$R^2$ = $\\dfrac{(TSS - RSS)}{TSS}$  or  $1 - \\dfrac{RSS}{TSS}$"
   ]
  },
  {
   "cell_type": "markdown",
   "metadata": {},
   "source": [
    "TSS is the squared difference between the observed ys and the mean = $\\displaystyle \\sum_{i=1}^n{(y_i - \\bar y)^2}$ and can be thought of as the amount of variability in the response before the regression is performed."
   ]
  },
  {
   "cell_type": "markdown",
   "metadata": {},
   "source": [
    "RSS/TSS represents the proportional amount of original variability that remains once the model is fitted.  \n",
    "  \n",
    "So, for a good fit, RSS will be low, and therefore  \n",
    "$R^2$ will be high (closer to 1)."
   ]
  },
  {
   "cell_type": "markdown",
   "metadata": {},
   "source": [
    "Consider if we fit a linear model with a very very slightly different slope from the mean line.  In that case, the RSS would be very nearly as large as the TSS and therefore the $R^2$ would be close to 0."
   ]
  },
  {
   "cell_type": "code",
   "execution_count": 43,
   "metadata": {},
   "outputs": [],
   "source": [
    "R2 = 1 - results.ssr/sum((data['sales']-data['sales'].mean())**2)"
   ]
  },
  {
   "cell_type": "code",
   "execution_count": 44,
   "metadata": {},
   "outputs": [
    {
     "data": {
      "text/plain": [
       "0.61187505085007077"
      ]
     },
     "execution_count": 44,
     "metadata": {},
     "output_type": "execute_result"
    }
   ],
   "source": [
    "R2"
   ]
  },
  {
   "cell_type": "markdown",
   "metadata": {},
   "source": [
    "the quick way"
   ]
  },
  {
   "cell_type": "code",
   "execution_count": 47,
   "metadata": {},
   "outputs": [
    {
     "data": {
      "text/plain": [
       "0.61187505085007099"
      ]
     },
     "execution_count": 47,
     "metadata": {},
     "output_type": "execute_result"
    }
   ],
   "source": [
    "R2quick = 1 - results.ssr/results.centered_tss\n",
    "R2quick"
   ]
  },
  {
   "cell_type": "markdown",
   "metadata": {},
   "source": [
    "but even quicker"
   ]
  },
  {
   "cell_type": "code",
   "execution_count": 100,
   "metadata": {},
   "outputs": [
    {
     "data": {
      "text/plain": [
       "0.61187505085007099"
      ]
     },
     "execution_count": 100,
     "metadata": {},
     "output_type": "execute_result"
    }
   ],
   "source": [
    "results.rsquared"
   ]
  },
  {
   "cell_type": "markdown",
   "metadata": {},
   "source": [
    "### The relation between $R^2$ and correlation, $r$"
   ]
  },
  {
   "cell_type": "markdown",
   "metadata": {},
   "source": [
    "$r = \\dfrac{\\sum(x_i - \\bar x)(y_i - \\bar y)}{\\sqrt{\\sum(x_i - \\bar x)^2}\\sqrt{\\sum(y_i - \\bar y)^2}}$"
   ]
  },
  {
   "cell_type": "markdown",
   "metadata": {},
   "source": [
    "$R^2 = r^2$"
   ]
  },
  {
   "cell_type": "code",
   "execution_count": 110,
   "metadata": {},
   "outputs": [],
   "source": [
    "xmeandiffs = data['TV'] - data['TV'].mean()\n",
    "ymeandiffs = data['sales'] - data['sales'].mean()"
   ]
  },
  {
   "cell_type": "code",
   "execution_count": 123,
   "metadata": {},
   "outputs": [],
   "source": [
    "r = sum(xmeandiffs * ymeandiffs) / (sum(xmeandiffs**2)**0.5 * sum(ymeandiffs**2)**0.5)"
   ]
  },
  {
   "cell_type": "code",
   "execution_count": 126,
   "metadata": {},
   "outputs": [
    {
     "data": {
      "text/plain": [
       "0.61187505085007032"
      ]
     },
     "execution_count": 126,
     "metadata": {},
     "output_type": "execute_result"
    }
   ],
   "source": [
    "r**2"
   ]
  },
  {
   "cell_type": "markdown",
   "metadata": {},
   "source": [
    "In statsmodels the Centered TSS is the squared sum of the differences between $y_i$ and $\\bar y$"
   ]
  },
  {
   "cell_type": "code",
   "execution_count": 106,
   "metadata": {},
   "outputs": [
    {
     "data": {
      "text/plain": [
       "5417.1487499999967"
      ]
     },
     "execution_count": 106,
     "metadata": {},
     "output_type": "execute_result"
    }
   ],
   "source": [
    "sum((data['sales'] - data['sales'].mean())**2)"
   ]
  },
  {
   "cell_type": "code",
   "execution_count": 48,
   "metadata": {},
   "outputs": [
    {
     "data": {
      "text/plain": [
       "5417.1487500000003"
      ]
     },
     "execution_count": 48,
     "metadata": {},
     "output_type": "execute_result"
    }
   ],
   "source": [
    "results.centered_tss"
   ]
  },
  {
   "cell_type": "code",
   "execution_count": 55,
   "metadata": {},
   "outputs": [
    {
     "data": {
      "text/plain": [
       "2102.5305831313503"
      ]
     },
     "execution_count": 55,
     "metadata": {},
     "output_type": "execute_result"
    }
   ],
   "source": [
    "sum(results.resid**2)"
   ]
  },
  {
   "cell_type": "code",
   "execution_count": 60,
   "metadata": {},
   "outputs": [
    {
     "data": {
      "text/plain": [
       "2102.5305831313512"
      ]
     },
     "execution_count": 60,
     "metadata": {},
     "output_type": "execute_result"
    }
   ],
   "source": [
    "results.ssr"
   ]
  },
  {
   "cell_type": "markdown",
   "metadata": {},
   "source": [
    "ESS is the amount of variance removed when moving from the average to the fitted line"
   ]
  },
  {
   "cell_type": "code",
   "execution_count": 59,
   "metadata": {},
   "outputs": [
    {
     "data": {
      "text/plain": [
       "3314.618166868649"
      ]
     },
     "execution_count": 59,
     "metadata": {},
     "output_type": "execute_result"
    }
   ],
   "source": [
    "results.ess"
   ]
  },
  {
   "cell_type": "markdown",
   "metadata": {},
   "source": [
    "RSS + ESS = Centered TSS"
   ]
  },
  {
   "cell_type": "markdown",
   "metadata": {},
   "source": [
    "ESS/Centered TSS = $R^2$"
   ]
  },
  {
   "cell_type": "code",
   "execution_count": 58,
   "metadata": {},
   "outputs": [
    {
     "data": {
      "text/plain": [
       "0.6118750508500711"
      ]
     },
     "execution_count": 58,
     "metadata": {},
     "output_type": "execute_result"
    }
   ],
   "source": [
    "results.ess/results.centered_tss"
   ]
  },
  {
   "cell_type": "markdown",
   "metadata": {},
   "source": [
    "Uncentered TSS is the sum of the squares of $y_i$"
   ]
  },
  {
   "cell_type": "code",
   "execution_count": 107,
   "metadata": {},
   "outputs": [
    {
     "data": {
      "text/plain": [
       "44743.250000000007"
      ]
     },
     "execution_count": 107,
     "metadata": {},
     "output_type": "execute_result"
    }
   ],
   "source": [
    "sum(data['sales']**2)"
   ]
  },
  {
   "cell_type": "code",
   "execution_count": 102,
   "metadata": {},
   "outputs": [
    {
     "data": {
      "text/plain": [
       "44743.25"
      ]
     },
     "execution_count": 102,
     "metadata": {},
     "output_type": "execute_result"
    }
   ],
   "source": [
    "results.uncentered_tss"
   ]
  },
  {
   "cell_type": "markdown",
   "metadata": {},
   "source": [
    "`.fittedvalues` gives the $\\hat y_i$"
   ]
  },
  {
   "cell_type": "code",
   "execution_count": 54,
   "metadata": {},
   "outputs": [
    {
     "data": {
      "text/plain": [
       "0      17.970775\n",
       "1       9.147974\n",
       "2       7.850224\n",
       "3      14.234395\n",
       "4      15.627218\n",
       "5       7.446162\n",
       "6       9.765950\n",
       "7      12.746498\n",
       "8       7.441409\n",
       "9      16.530414\n",
       "10     10.174765\n",
       "11     17.238710\n",
       "12      8.163966\n",
       "13     11.667416\n",
       "14     16.734822\n",
       "15     16.321253\n",
       "16     10.255578\n",
       "17     20.409404\n",
       "18     10.322129\n",
       "19     14.034741\n",
       "20     17.414596\n",
       "21     18.317792\n",
       "22      7.660077\n",
       "23     17.885209\n",
       "24      9.994126\n",
       "25     19.529976\n",
       "26     13.825579\n",
       "27     18.446141\n",
       "28     18.859710\n",
       "29     10.388680\n",
       "         ...    \n",
       "170     9.409426\n",
       "171    14.852371\n",
       "172     7.964312\n",
       "173    15.037764\n",
       "174    17.604742\n",
       "175    20.195489\n",
       "176    18.840695\n",
       "177    15.123330\n",
       "178    20.185982\n",
       "179    14.904661\n",
       "180    14.476831\n",
       "181    17.419349\n",
       "182     9.704153\n",
       "183    20.704131\n",
       "184    19.097393\n",
       "185    16.777605\n",
       "186    13.663955\n",
       "187    16.116846\n",
       "188    20.628073\n",
       "189     7.921529\n",
       "190     8.910291\n",
       "191    10.621610\n",
       "192     7.850224\n",
       "193    14.961705\n",
       "194    14.148829\n",
       "195     8.848493\n",
       "196    11.510545\n",
       "197    15.446579\n",
       "198    20.513985\n",
       "199    18.065848\n",
       "Length: 200, dtype: float64"
      ]
     },
     "execution_count": 54,
     "metadata": {},
     "output_type": "execute_result"
    }
   ],
   "source": [
    "results.fittedvalues"
   ]
  },
  {
   "cell_type": "markdown",
   "metadata": {},
   "source": [
    "`.conf_int(alpha=0.05)` calculates the $(1-\\alpha)$ confidence interval based on T-score.  Default $\\alpha = 0.05$"
   ]
  },
  {
   "cell_type": "code",
   "execution_count": 69,
   "metadata": {},
   "outputs": [
    {
     "name": "stdout",
     "output_type": "stream",
     "text": [
      "                  0         1\n",
      "Intercept  6.129719  7.935468\n",
      "TV         0.042231  0.052843\n",
      "                 0         1\n",
      "Intercept  5.99852  8.066667\n",
      "TV         0.04146  0.053614\n"
     ]
    }
   ],
   "source": [
    "print(results.conf_int())\n",
    "print(results.conf_int(0.025))"
   ]
  },
  {
   "cell_type": "code",
   "execution_count": 64,
   "metadata": {},
   "outputs": [
    {
     "data": {
      "text/plain": [
       "['HC0_se',\n",
       " 'HC1_se',\n",
       " 'HC2_se',\n",
       " 'HC3_se',\n",
       " '_HCCM',\n",
       " '__class__',\n",
       " '__delattr__',\n",
       " '__dict__',\n",
       " '__dir__',\n",
       " '__doc__',\n",
       " '__eq__',\n",
       " '__format__',\n",
       " '__ge__',\n",
       " '__getattribute__',\n",
       " '__gt__',\n",
       " '__hash__',\n",
       " '__init__',\n",
       " '__init_subclass__',\n",
       " '__le__',\n",
       " '__lt__',\n",
       " '__module__',\n",
       " '__ne__',\n",
       " '__new__',\n",
       " '__reduce__',\n",
       " '__reduce_ex__',\n",
       " '__repr__',\n",
       " '__setattr__',\n",
       " '__sizeof__',\n",
       " '__str__',\n",
       " '__subclasshook__',\n",
       " '__weakref__',\n",
       " '_cache',\n",
       " '_data_attr',\n",
       " '_get_robustcov_results',\n",
       " '_is_nested',\n",
       " '_wexog_singular_values',\n",
       " 'aic',\n",
       " 'bic',\n",
       " 'bse',\n",
       " 'centered_tss',\n",
       " 'compare_f_test',\n",
       " 'compare_lm_test',\n",
       " 'compare_lr_test',\n",
       " 'condition_number',\n",
       " 'conf_int',\n",
       " 'conf_int_el',\n",
       " 'cov_HC0',\n",
       " 'cov_HC1',\n",
       " 'cov_HC2',\n",
       " 'cov_HC3',\n",
       " 'cov_kwds',\n",
       " 'cov_params',\n",
       " 'cov_type',\n",
       " 'df_model',\n",
       " 'df_resid',\n",
       " 'diagn',\n",
       " 'eigenvals',\n",
       " 'el_test',\n",
       " 'ess',\n",
       " 'f_pvalue',\n",
       " 'f_test',\n",
       " 'fittedvalues',\n",
       " 'fvalue',\n",
       " 'get_influence',\n",
       " 'get_prediction',\n",
       " 'get_robustcov_results',\n",
       " 'het_scale',\n",
       " 'initialize',\n",
       " 'k_constant',\n",
       " 'llf',\n",
       " 'load',\n",
       " 'model',\n",
       " 'mse_model',\n",
       " 'mse_resid',\n",
       " 'mse_total',\n",
       " 'nobs',\n",
       " 'normalized_cov_params',\n",
       " 'outlier_test',\n",
       " 'params',\n",
       " 'predict',\n",
       " 'pvalues',\n",
       " 'remove_data',\n",
       " 'resid',\n",
       " 'resid_pearson',\n",
       " 'rsquared',\n",
       " 'rsquared_adj',\n",
       " 'save',\n",
       " 'scale',\n",
       " 'ssr',\n",
       " 'summary',\n",
       " 'summary2',\n",
       " 't_test',\n",
       " 'tvalues',\n",
       " 'uncentered_tss',\n",
       " 'use_t',\n",
       " 'wald_test',\n",
       " 'wald_test_terms',\n",
       " 'wresid']"
      ]
     },
     "execution_count": 64,
     "metadata": {},
     "output_type": "execute_result"
    }
   ],
   "source": [
    "dir(results)"
   ]
  },
  {
   "cell_type": "markdown",
   "metadata": {},
   "source": [
    "`.model` returns a pointer to the model that results derived from"
   ]
  },
  {
   "cell_type": "code",
   "execution_count": 99,
   "metadata": {},
   "outputs": [],
   "source": [
    "m=results.model"
   ]
  },
  {
   "cell_type": "code",
   "execution_count": 100,
   "metadata": {},
   "outputs": [
    {
     "data": {
      "text/plain": [
       "['__class__',\n",
       " '__delattr__',\n",
       " '__dict__',\n",
       " '__dir__',\n",
       " '__doc__',\n",
       " '__eq__',\n",
       " '__format__',\n",
       " '__ge__',\n",
       " '__getattribute__',\n",
       " '__gt__',\n",
       " '__hash__',\n",
       " '__init__',\n",
       " '__init_subclass__',\n",
       " '__le__',\n",
       " '__lt__',\n",
       " '__module__',\n",
       " '__ne__',\n",
       " '__new__',\n",
       " '__reduce__',\n",
       " '__reduce_ex__',\n",
       " '__repr__',\n",
       " '__setattr__',\n",
       " '__sizeof__',\n",
       " '__str__',\n",
       " '__subclasshook__',\n",
       " '__weakref__',\n",
       " '_data_attr',\n",
       " '_df_model',\n",
       " '_df_resid',\n",
       " '_fit_ridge',\n",
       " '_get_init_kwds',\n",
       " '_handle_data',\n",
       " '_init_keys',\n",
       " '_setup_score_hess',\n",
       " 'data',\n",
       " 'df_model',\n",
       " 'df_resid',\n",
       " 'endog',\n",
       " 'endog_names',\n",
       " 'exog',\n",
       " 'exog_names',\n",
       " 'fit',\n",
       " 'fit_regularized',\n",
       " 'formula',\n",
       " 'from_formula',\n",
       " 'get_distribution',\n",
       " 'hessian',\n",
       " 'information',\n",
       " 'initialize',\n",
       " 'k_constant',\n",
       " 'loglike',\n",
       " 'nobs',\n",
       " 'normalized_cov_params',\n",
       " 'pinv_wexog',\n",
       " 'predict',\n",
       " 'rank',\n",
       " 'score',\n",
       " 'weights',\n",
       " 'wendog',\n",
       " 'wexog',\n",
       " 'wexog_singular_values',\n",
       " 'whiten']"
      ]
     },
     "execution_count": 100,
     "metadata": {},
     "output_type": "execute_result"
    }
   ],
   "source": [
    "dir(m)"
   ]
  },
  {
   "cell_type": "code",
   "execution_count": 102,
   "metadata": {},
   "outputs": [
    {
     "data": {
      "text/plain": [
       "'sales'"
      ]
     },
     "execution_count": 102,
     "metadata": {},
     "output_type": "execute_result"
    }
   ],
   "source": [
    "m.endog_names"
   ]
  },
  {
   "cell_type": "code",
   "execution_count": 104,
   "metadata": {},
   "outputs": [
    {
     "data": {
      "text/plain": [
       "array([ 22.1,  10.4,   9.3,  18.5,  12.9,   7.2,  11.8,  13.2,   4.8,\n",
       "        10.6,   8.6,  17.4,   9.2,   9.7,  19. ,  22.4,  12.5,  24.4,\n",
       "        11.3,  14.6,  18. ,  12.5,   5.6,  15.5,   9.7,  12. ,  15. ,\n",
       "        15.9,  18.9,  10.5,  21.4,  11.9,   9.6,  17.4,   9.5,  12.8,\n",
       "        25.4,  14.7,  10.1,  21.5,  16.6,  17.1,  20.7,  12.9,   8.5,\n",
       "        14.9,  10.6,  23.2,  14.8,   9.7,  11.4,  10.7,  22.6,  21.2,\n",
       "        20.2,  23.7,   5.5,  13.2,  23.8,  18.4,   8.1,  24.2,  15.7,\n",
       "        14. ,  18. ,   9.3,   9.5,  13.4,  18.9,  22.3,  18.3,  12.4,\n",
       "         8.8,  11. ,  17. ,   8.7,   6.9,  14.2,   5.3,  11. ,  11.8,\n",
       "        12.3,  11.3,  13.6,  21.7,  15.2,  12. ,  16. ,  12.9,  16.7,\n",
       "        11.2,   7.3,  19.4,  22.2,  11.5,  16.9,  11.7,  15.5,  25.4,\n",
       "        17.2,  11.7,  23.8,  14.8,  14.7,  20.7,  19.2,   7.2,   8.7,\n",
       "         5.3,  19.8,  13.4,  21.8,  14.1,  15.9,  14.6,  12.6,  12.2,\n",
       "         9.4,  15.9,   6.6,  15.5,   7. ,  11.6,  15.2,  19.7,  10.6,\n",
       "         6.6,   8.8,  24.7,   9.7,   1.6,  12.7,   5.7,  19.6,  10.8,\n",
       "        11.6,   9.5,  20.8,   9.6,  20.7,  10.9,  19.2,  20.1,  10.4,\n",
       "        11.4,  10.3,  13.2,  25.4,  10.9,  10.1,  16.1,  11.6,  16.6,\n",
       "        19. ,  15.6,   3.2,  15.3,  10.1,   7.3,  12.9,  14.4,  13.3,\n",
       "        14.9,  18. ,  11.9,  11.9,   8. ,  12.2,  17.1,  15. ,   8.4,\n",
       "        14.5,   7.6,  11.7,  11.5,  27. ,  20.2,  11.7,  11.8,  12.6,\n",
       "        10.5,  12.2,   8.7,  26.2,  17.6,  22.6,  10.3,  17.3,  15.9,\n",
       "         6.7,  10.8,   9.9,   5.9,  19.6,  17.3,   7.6,   9.7,  12.8,\n",
       "        25.5,  13.4])"
      ]
     },
     "execution_count": 104,
     "metadata": {},
     "output_type": "execute_result"
    }
   ],
   "source": [
    "m.endog"
   ]
  },
  {
   "cell_type": "code",
   "execution_count": 103,
   "metadata": {},
   "outputs": [
    {
     "data": {
      "text/plain": [
       "['Intercept', 'TV']"
      ]
     },
     "execution_count": 103,
     "metadata": {},
     "output_type": "execute_result"
    }
   ],
   "source": [
    "m.exog_names"
   ]
  },
  {
   "cell_type": "code",
   "execution_count": 105,
   "metadata": {},
   "outputs": [
    {
     "data": {
      "text/plain": [
       "array([[   1. ,  230.1],\n",
       "       [   1. ,   44.5],\n",
       "       [   1. ,   17.2],\n",
       "       [   1. ,  151.5],\n",
       "       [   1. ,  180.8],\n",
       "       [   1. ,    8.7],\n",
       "       [   1. ,   57.5],\n",
       "       [   1. ,  120.2],\n",
       "       [   1. ,    8.6],\n",
       "       [   1. ,  199.8],\n",
       "       [   1. ,   66.1],\n",
       "       [   1. ,  214.7],\n",
       "       [   1. ,   23.8],\n",
       "       [   1. ,   97.5],\n",
       "       [   1. ,  204.1],\n",
       "       [   1. ,  195.4],\n",
       "       [   1. ,   67.8],\n",
       "       [   1. ,  281.4],\n",
       "       [   1. ,   69.2],\n",
       "       [   1. ,  147.3],\n",
       "       [   1. ,  218.4],\n",
       "       [   1. ,  237.4],\n",
       "       [   1. ,   13.2],\n",
       "       [   1. ,  228.3],\n",
       "       [   1. ,   62.3],\n",
       "       [   1. ,  262.9],\n",
       "       [   1. ,  142.9],\n",
       "       [   1. ,  240.1],\n",
       "       [   1. ,  248.8],\n",
       "       [   1. ,   70.6],\n",
       "       [   1. ,  292.9],\n",
       "       [   1. ,  112.9],\n",
       "       [   1. ,   97.2],\n",
       "       [   1. ,  265.6],\n",
       "       [   1. ,   95.7],\n",
       "       [   1. ,  290.7],\n",
       "       [   1. ,  266.9],\n",
       "       [   1. ,   74.7],\n",
       "       [   1. ,   43.1],\n",
       "       [   1. ,  228. ],\n",
       "       [   1. ,  202.5],\n",
       "       [   1. ,  177. ],\n",
       "       [   1. ,  293.6],\n",
       "       [   1. ,  206.9],\n",
       "       [   1. ,   25.1],\n",
       "       [   1. ,  175.1],\n",
       "       [   1. ,   89.7],\n",
       "       [   1. ,  239.9],\n",
       "       [   1. ,  227.2],\n",
       "       [   1. ,   66.9],\n",
       "       [   1. ,  199.8],\n",
       "       [   1. ,  100.4],\n",
       "       [   1. ,  216.4],\n",
       "       [   1. ,  182.6],\n",
       "       [   1. ,  262.7],\n",
       "       [   1. ,  198.9],\n",
       "       [   1. ,    7.3],\n",
       "       [   1. ,  136.2],\n",
       "       [   1. ,  210.8],\n",
       "       [   1. ,  210.7],\n",
       "       [   1. ,   53.5],\n",
       "       [   1. ,  261.3],\n",
       "       [   1. ,  239.3],\n",
       "       [   1. ,  102.7],\n",
       "       [   1. ,  131.1],\n",
       "       [   1. ,   69. ],\n",
       "       [   1. ,   31.5],\n",
       "       [   1. ,  139.3],\n",
       "       [   1. ,  237.4],\n",
       "       [   1. ,  216.8],\n",
       "       [   1. ,  199.1],\n",
       "       [   1. ,  109.8],\n",
       "       [   1. ,   26.8],\n",
       "       [   1. ,  129.4],\n",
       "       [   1. ,  213.4],\n",
       "       [   1. ,   16.9],\n",
       "       [   1. ,   27.5],\n",
       "       [   1. ,  120.5],\n",
       "       [   1. ,    5.4],\n",
       "       [   1. ,  116. ],\n",
       "       [   1. ,   76.4],\n",
       "       [   1. ,  239.8],\n",
       "       [   1. ,   75.3],\n",
       "       [   1. ,   68.4],\n",
       "       [   1. ,  213.5],\n",
       "       [   1. ,  193.2],\n",
       "       [   1. ,   76.3],\n",
       "       [   1. ,  110.7],\n",
       "       [   1. ,   88.3],\n",
       "       [   1. ,  109.8],\n",
       "       [   1. ,  134.3],\n",
       "       [   1. ,   28.6],\n",
       "       [   1. ,  217.7],\n",
       "       [   1. ,  250.9],\n",
       "       [   1. ,  107.4],\n",
       "       [   1. ,  163.3],\n",
       "       [   1. ,  197.6],\n",
       "       [   1. ,  184.9],\n",
       "       [   1. ,  289.7],\n",
       "       [   1. ,  135.2],\n",
       "       [   1. ,  222.4],\n",
       "       [   1. ,  296.4],\n",
       "       [   1. ,  280.2],\n",
       "       [   1. ,  187.9],\n",
       "       [   1. ,  238.2],\n",
       "       [   1. ,  137.9],\n",
       "       [   1. ,   25. ],\n",
       "       [   1. ,   90.4],\n",
       "       [   1. ,   13.1],\n",
       "       [   1. ,  255.4],\n",
       "       [   1. ,  225.8],\n",
       "       [   1. ,  241.7],\n",
       "       [   1. ,  175.7],\n",
       "       [   1. ,  209.6],\n",
       "       [   1. ,   78.2],\n",
       "       [   1. ,   75.1],\n",
       "       [   1. ,  139.2],\n",
       "       [   1. ,   76.4],\n",
       "       [   1. ,  125.7],\n",
       "       [   1. ,   19.4],\n",
       "       [   1. ,  141.3],\n",
       "       [   1. ,   18.8],\n",
       "       [   1. ,  224. ],\n",
       "       [   1. ,  123.1],\n",
       "       [   1. ,  229.5],\n",
       "       [   1. ,   87.2],\n",
       "       [   1. ,    7.8],\n",
       "       [   1. ,   80.2],\n",
       "       [   1. ,  220.3],\n",
       "       [   1. ,   59.6],\n",
       "       [   1. ,    0.7],\n",
       "       [   1. ,  265.2],\n",
       "       [   1. ,    8.4],\n",
       "       [   1. ,  219.8],\n",
       "       [   1. ,   36.9],\n",
       "       [   1. ,   48.3],\n",
       "       [   1. ,   25.6],\n",
       "       [   1. ,  273.7],\n",
       "       [   1. ,   43. ],\n",
       "       [   1. ,  184.9],\n",
       "       [   1. ,   73.4],\n",
       "       [   1. ,  193.7],\n",
       "       [   1. ,  220.5],\n",
       "       [   1. ,  104.6],\n",
       "       [   1. ,   96.2],\n",
       "       [   1. ,  140.3],\n",
       "       [   1. ,  240.1],\n",
       "       [   1. ,  243.2],\n",
       "       [   1. ,   38. ],\n",
       "       [   1. ,   44.7],\n",
       "       [   1. ,  280.7],\n",
       "       [   1. ,  121. ],\n",
       "       [   1. ,  197.6],\n",
       "       [   1. ,  171.3],\n",
       "       [   1. ,  187.8],\n",
       "       [   1. ,    4.1],\n",
       "       [   1. ,   93.9],\n",
       "       [   1. ,  149.8],\n",
       "       [   1. ,   11.7],\n",
       "       [   1. ,  131.7],\n",
       "       [   1. ,  172.5],\n",
       "       [   1. ,   85.7],\n",
       "       [   1. ,  188.4],\n",
       "       [   1. ,  163.5],\n",
       "       [   1. ,  117.2],\n",
       "       [   1. ,  234.5],\n",
       "       [   1. ,   17.9],\n",
       "       [   1. ,  206.8],\n",
       "       [   1. ,  215.4],\n",
       "       [   1. ,  284.3],\n",
       "       [   1. ,   50. ],\n",
       "       [   1. ,  164.5],\n",
       "       [   1. ,   19.6],\n",
       "       [   1. ,  168.4],\n",
       "       [   1. ,  222.4],\n",
       "       [   1. ,  276.9],\n",
       "       [   1. ,  248.4],\n",
       "       [   1. ,  170.2],\n",
       "       [   1. ,  276.7],\n",
       "       [   1. ,  165.6],\n",
       "       [   1. ,  156.6],\n",
       "       [   1. ,  218.5],\n",
       "       [   1. ,   56.2],\n",
       "       [   1. ,  287.6],\n",
       "       [   1. ,  253.8],\n",
       "       [   1. ,  205. ],\n",
       "       [   1. ,  139.5],\n",
       "       [   1. ,  191.1],\n",
       "       [   1. ,  286. ],\n",
       "       [   1. ,   18.7],\n",
       "       [   1. ,   39.5],\n",
       "       [   1. ,   75.5],\n",
       "       [   1. ,   17.2],\n",
       "       [   1. ,  166.8],\n",
       "       [   1. ,  149.7],\n",
       "       [   1. ,   38.2],\n",
       "       [   1. ,   94.2],\n",
       "       [   1. ,  177. ],\n",
       "       [   1. ,  283.6],\n",
       "       [   1. ,  232.1]])"
      ]
     },
     "execution_count": 105,
     "metadata": {},
     "output_type": "execute_result"
    }
   ],
   "source": [
    "m.exog"
   ]
  },
  {
   "cell_type": "code",
   "execution_count": null,
   "metadata": {
    "collapsed": true
   },
   "outputs": [],
   "source": []
  }
 ],
 "metadata": {
  "kernelspec": {
   "display_name": "Python 3",
   "language": "python",
   "name": "python3"
  },
  "language_info": {
   "codemirror_mode": {
    "name": "ipython",
    "version": 3
   },
   "file_extension": ".py",
   "mimetype": "text/x-python",
   "name": "python",
   "nbconvert_exporter": "python",
   "pygments_lexer": "ipython3",
   "version": "3.6.2"
  }
 },
 "nbformat": 4,
 "nbformat_minor": 2
}
